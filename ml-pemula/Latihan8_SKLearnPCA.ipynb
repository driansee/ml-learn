{
  "nbformat": 4,
  "nbformat_minor": 0,
  "metadata": {
    "colab": {
      "provenance": [],
      "authorship_tag": "ABX9TyP3GwS1hYZrsao4ciIYGj1z",
      "include_colab_link": true
    },
    "kernelspec": {
      "name": "python3",
      "display_name": "Python 3"
    },
    "language_info": {
      "name": "python"
    }
  },
  "cells": [
    {
      "cell_type": "markdown",
      "metadata": {
        "id": "view-in-github",
        "colab_type": "text"
      },
      "source": [
        "<a href=\"https://colab.research.google.com/github/driansee/ml-learn/blob/main/ml-pemula/Latihan8_SKLearnPCA.ipynb\" target=\"_parent\"><img src=\"https://colab.research.google.com/assets/colab-badge.svg\" alt=\"Open In Colab\"/></a>"
      ]
    },
    {
      "cell_type": "markdown",
      "source": [
        "**Latihan SKLearn PCA**\n",
        "\n",
        "Pada latihan ini, kita akan berlatih mengimplementasi PCA dengan library SKLearn.\n",
        "\n",
        "**Tahapan Latihan**\n",
        "\n",
        "1. Bagi dataset.\n",
        "2. Latih model tanpa PCA.\n",
        "3. Latih model dengan PCA.\n",
        "4. Evaluasi hasil kedua model."
      ],
      "metadata": {
        "id": "5tYI5N_FkAIM"
      }
    },
    {
      "cell_type": "code",
      "execution_count": 1,
      "metadata": {
        "id": "FVzgLiDmir1b",
        "colab": {
          "base_uri": "https://localhost:8080/"
        },
        "outputId": "96620960-8666-4368-b026-20e571eaf82d"
      },
      "outputs": [
        {
          "output_type": "execute_result",
          "data": {
            "text/plain": [
              "0.9666666666666667"
            ]
          },
          "metadata": {},
          "execution_count": 1
        }
      ],
      "source": [
        "from sklearn import datasets\n",
        "from sklearn.model_selection import train_test_split\n",
        "from sklearn.tree import DecisionTreeClassifier\n",
        "from sklearn.decomposition import PCA\n",
        "\n",
        "# Load iris dataset\n",
        "iris = datasets.load_iris()\n",
        "\n",
        "# Mendefinisikan atribut dan label pada dataset\n",
        "atribut, label = iris.data, iris.target\n",
        "\n",
        "# Bagi dataset menjadi train set dan test set\n",
        "X_train, X_test, y_train, y_test = train_test_split(atribut, label, test_size=0.2, random_state=1)\n",
        "\n",
        "# Membuat model Decision Tree\n",
        "decision_tree = DecisionTreeClassifier()\n",
        "\n",
        "# Melatih model dengan menggunakan data latih\n",
        "model_pertama = decision_tree.fit(X_train, y_train)\n",
        "model_pertama.score(X_test, y_test)"
      ]
    },
    {
      "cell_type": "code",
      "source": [
        "# Membuat objek PCA dengan 4 principal component\n",
        "pca = PCA(n_components=4)\n",
        "\n",
        "# Mengaplikasikan PCA pada dataset\n",
        "pca_attributes = pca.fit_transform(X_train)\n",
        "\n",
        "# Melihat variance dari setiap atribut\n",
        "pca.explained_variance_ratio_"
      ],
      "metadata": {
        "colab": {
          "base_uri": "https://localhost:8080/"
        },
        "id": "WskM944HkPxZ",
        "outputId": "4005db20-0682-4323-919a-8ca997d69ebe"
      },
      "execution_count": 2,
      "outputs": [
        {
          "output_type": "execute_result",
          "data": {
            "text/plain": [
              "array([0.92848323, 0.04764372, 0.01931005, 0.004563  ])"
            ]
          },
          "metadata": {},
          "execution_count": 2
        }
      ]
    },
    {
      "cell_type": "code",
      "source": [
        "# PCA dengan 2 principal component\n",
        "pca = PCA(n_components=2)\n",
        "X_train_pca = pca.fit_transform(X_train)\n",
        "X_test_pca = pca.fit_transform(X_test)\n",
        "\n",
        "# Uji akurasi classifier\n",
        "model_kedua = decision_tree.fit(X_train_pca, y_train)\n",
        "model_kedua.score(X_test_pca, y_test)"
      ],
      "metadata": {
        "id": "Ro_zNaNslKZs",
        "colab": {
          "base_uri": "https://localhost:8080/"
        },
        "outputId": "89d75de8-96ae-4720-9a8a-d96e1f91aa41"
      },
      "execution_count": 3,
      "outputs": [
        {
          "output_type": "execute_result",
          "data": {
            "text/plain": [
              "0.9333333333333333"
            ]
          },
          "metadata": {},
          "execution_count": 3
        }
      ]
    }
  ]
}