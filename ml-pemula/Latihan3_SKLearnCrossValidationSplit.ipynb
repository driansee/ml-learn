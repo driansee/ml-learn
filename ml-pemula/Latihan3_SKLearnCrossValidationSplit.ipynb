{
  "nbformat": 4,
  "nbformat_minor": 0,
  "metadata": {
    "colab": {
      "provenance": [],
      "authorship_tag": "ABX9TyPvbUnPHbSfuhkfYJcIroxU",
      "include_colab_link": true
    },
    "kernelspec": {
      "name": "python3",
      "display_name": "Python 3"
    },
    "language_info": {
      "name": "python"
    }
  },
  "cells": [
    {
      "cell_type": "markdown",
      "metadata": {
        "id": "view-in-github",
        "colab_type": "text"
      },
      "source": [
        "<a href=\"https://colab.research.google.com/github/driansee/ml-learn/blob/main/ml-pemula/Latihan3_SKLearnCrossValidationSplit.ipynb\" target=\"_parent\"><img src=\"https://colab.research.google.com/assets/colab-badge.svg\" alt=\"Open In Colab\"/></a>"
      ]
    },
    {
      "cell_type": "markdown",
      "source": [
        "**Latihan SKLearn Cross Validation Split**\n",
        "\n",
        "Pada codelab kali ini kita akan menggunakan cross_validation_score pada classifier decision_tree. Dataset yang digunakan adalah dataset iris.\n",
        "\n",
        "**Tahapan Latihan**\n",
        "\n",
        "1. Impor library yang dibutuhkan.\n",
        "2. Pisahkan antara atribut dan label pada dataset.\n",
        "3. Buat model decision tree.\n",
        "4. Hitung hasil cross validation dari model dengan fungsi cross_val_score()."
      ],
      "metadata": {
        "id": "hb7CE7u0FCwx"
      }
    },
    {
      "cell_type": "code",
      "execution_count": 1,
      "metadata": {
        "id": "Bpe_uVKMp3jB",
        "colab": {
          "base_uri": "https://localhost:8080/"
        },
        "outputId": "dd7dc796-09f6-4e72-91bf-431b77f73fb3"
      },
      "outputs": [
        {
          "output_type": "execute_result",
          "data": {
            "text/plain": [
              "array([0.96666667, 0.96666667, 0.9       , 1.        , 1.        ])"
            ]
          },
          "metadata": {},
          "execution_count": 1
        }
      ],
      "source": [
        "import sklearn\n",
        "from sklearn import datasets\n",
        "from sklearn import tree\n",
        "from sklearn.model_selection import cross_val_score\n",
        "\n",
        "# Load iris dataset\n",
        "iris = datasets.load_iris()\n",
        "\n",
        "# Mendefinisikan atribut dan label pada dataset\n",
        "X, y = iris.data, iris.target\n",
        "\n",
        "# Membuat model dengan decision tree classifier\n",
        "clf = tree.DecisionTreeClassifier()\n",
        "\n",
        "# Mengevaluasi performa model dengan cross_val_score\n",
        "scores = cross_val_score(clf, X, y, cv=5)\n",
        "scores"
      ]
    }
  ]
}