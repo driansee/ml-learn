{
  "nbformat": 4,
  "nbformat_minor": 0,
  "metadata": {
    "colab": {
      "provenance": [],
      "authorship_tag": "ABX9TyMP49U4+gvQQMS8Ers/CZjX",
      "include_colab_link": true
    },
    "kernelspec": {
      "name": "python3",
      "display_name": "Python 3"
    },
    "language_info": {
      "name": "python"
    }
  },
  "cells": [
    {
      "cell_type": "markdown",
      "metadata": {
        "id": "view-in-github",
        "colab_type": "text"
      },
      "source": [
        "<a href=\"https://colab.research.google.com/github/driansee/ml-learn/blob/main/ml-pemula/Latihan2_SKLearnTrainTestSplit.ipynb\" target=\"_parent\"><img src=\"https://colab.research.google.com/assets/colab-badge.svg\" alt=\"Open In Colab\"/></a>"
      ]
    },
    {
      "cell_type": "markdown",
      "source": [
        "**Latihan SKLearn Train Test Split**\n",
        "\n",
        "Pada codelab ini kita akan belajar membagi dataset menggunakan fungsi Train Test Split dari library SKLearn.\n",
        "\n",
        "**Tahapan Latihan**\n",
        "\n",
        "1.   Persiapkan dataset ke dalam Notebook\n",
        "2.   Impor library SKLearn.\n",
        "3.   Buat variabel untuk menampung data training dan data testing.\n",
        "4.   Panggil fungsi train_test_split().\n",
        "\n",
        "\n"
      ],
      "metadata": {
        "id": "F1LG64I9_-gS"
      }
    },
    {
      "cell_type": "code",
      "execution_count": 1,
      "metadata": {
        "id": "eHydhrw_ms_x",
        "colab": {
          "base_uri": "https://localhost:8080/"
        },
        "outputId": "e910632e-1ae5-4813-a4a1-6b9a7fec039b"
      },
      "outputs": [
        {
          "output_type": "execute_result",
          "data": {
            "text/plain": [
              "30"
            ]
          },
          "metadata": {},
          "execution_count": 1
        }
      ],
      "source": [
        "import sklearn\n",
        "from sklearn import datasets\n",
        "from sklearn.model_selection import train_test_split\n",
        "\n",
        "# Load iris dataset\n",
        "iris = datasets.load_iris()\n",
        "\n",
        "# Pisahkan atribut dan label pada iris dataset\n",
        "X, y = iris.data, iris.target\n",
        "\n",
        "# Membagi dataset menjadi training dan testing\n",
        "X_train, X_test, y_train, y_test = train_test_split(X, y, test_size=0.2, random_state=1)\n",
        "\n",
        "# Menghitung panjang/jumlah data pada X_test\n",
        "len(X_test)"
      ]
    }
  ]
}