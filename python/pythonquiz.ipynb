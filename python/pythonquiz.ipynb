{
  "nbformat": 4,
  "nbformat_minor": 0,
  "metadata": {
    "colab": {
      "provenance": [],
      "authorship_tag": "ABX9TyPWYimbPSLSkInAWZEw3lrx",
      "include_colab_link": true
    },
    "kernelspec": {
      "name": "python3",
      "display_name": "Python 3"
    },
    "language_info": {
      "name": "python"
    }
  },
  "cells": [
    {
      "cell_type": "markdown",
      "metadata": {
        "id": "view-in-github",
        "colab_type": "text"
      },
      "source": [
        "<a href=\"https://colab.research.google.com/github/driansee/ml-learn/blob/main/python/pythonquiz.ipynb\" target=\"_parent\"><img src=\"https://colab.research.google.com/assets/colab-badge.svg\" alt=\"Open In Colab\"/></a>"
      ]
    },
    {
      "cell_type": "markdown",
      "source": [
        "# **Memulai Pemrograman dengan Python**"
      ],
      "metadata": {
        "id": "HiusWIB38hZf"
      }
    },
    {
      "cell_type": "markdown",
      "source": [
        "### **Kuis Coding: Variabel dan Assignment**"
      ],
      "metadata": {
        "id": "C8L_ZWmt95ju"
      }
    },
    {
      "cell_type": "code",
      "execution_count": 10,
      "metadata": {
        "colab": {
          "base_uri": "https://localhost:8080/"
        },
        "id": "vQMPmb3N7ZRF",
        "outputId": "7e6abb12-611b-4fae-9ed1-df28e2968411"
      },
      "outputs": [
        {
          "output_type": "stream",
          "name": "stdout",
          "text": [
            "Saya mulai belajar Python!\n"
          ]
        }
      ],
      "source": [
        "\"\"\"\n",
        "TODO:\n",
        "- Buatlah sebuah variabel bernama greeting.\n",
        "- Assign teks \"Saya mulai belajar Python!\" pada variabel tersebut.\n",
        "\"\"\"\n",
        "\n",
        "# TODO: Silakan buat kode Anda di bawah ini.\n",
        "greeting = 'Saya mulai belajar Python!'    #  Ini adalah assignment\n",
        "print(greeting)"
      ]
    },
    {
      "cell_type": "markdown",
      "source": [
        "### **Kuis Coding: Tipe Data**"
      ],
      "metadata": {
        "id": "rU1D7GneAZ23"
      }
    },
    {
      "cell_type": "code",
      "source": [
        "\"\"\"\n",
        "TODO:\n",
        "Buatlah variabel firstName, lastName, age, isMarried dengan ketentuan:\n",
        "- firstName: isi dengan nama depan Anda bertipe data string.\n",
        "- lastName: isi dengan nama belakang Anda bertipe data string.\n",
        "- age: isi dengan umur Anda bertipe data integer.\n",
        "- isMarried: isi dengan status pernikahan Anda bertipe data boolean.\n",
        "\n",
        "Catatan:\n",
        "- Value variabel harus berupa nilai sesungguhnya (literal) seperti string,\n",
        "  bilangan bulat (integer), dan boolean (benar atau salah).\n",
        "\"\"\"\n",
        "\n",
        "# TODO: Silakan buat kode Anda di bawah ini.\n",
        "firstName = 'Bella'\n",
        "lastName = 'Swan'\n",
        "age = 25\n",
        "isMarried = False\n",
        "\n",
        "print(type(firstName))\n",
        "print(type(lastName))\n",
        "print(type(age))\n",
        "print(type(isMarried))"
      ],
      "metadata": {
        "colab": {
          "base_uri": "https://localhost:8080/"
        },
        "id": "B6jhZrIY93jl",
        "outputId": "57e38f27-7562-4b44-8587-6f52c483df10"
      },
      "execution_count": 11,
      "outputs": [
        {
          "output_type": "stream",
          "name": "stdout",
          "text": [
            "<class 'str'>\n",
            "<class 'str'>\n",
            "<class 'int'>\n",
            "<class 'bool'>\n"
          ]
        }
      ]
    },
    {
      "cell_type": "markdown",
      "source": [
        "### **Kuis Coding: Dictionary**"
      ],
      "metadata": {
        "id": "OVruzzYGBDRB"
      }
    },
    {
      "cell_type": "code",
      "source": [
        "\"\"\"\n",
        "TODO:\n",
        "Buatlah variabel dictionary dengan nama \"data_diri\",\n",
        "variabel tersebut berisi identitas diri Anda berdasarkan ketentuan berikut.\n",
        "- Memiliki key bernama \"firstName\":\n",
        "    - Isi value dengan nama depan Anda, pastikan bertipe data string.\n",
        "- Memiliki key bernama \"lastName\":\n",
        "    - Isi value dengan nama terakhir Anda, pastikan bertipe data string.\n",
        "- Memiliki key bernama \"age\":\n",
        "    - Isi value dengan umur Anda, pastikan bertipe data integer.\n",
        "- Memiliki key bernama \"isMarried\":\n",
        "    - Isi value dengan status pernikahan Anda, pastikan bertipe data boolean.\n",
        "\n",
        "Catatan:\n",
        "- Value pada dictionary harus berupa nilai sesungguhnya (literal) seperti string,\n",
        "  bilangan bulat (integer), dan boolean (benar atau salah).\n",
        "\"\"\"\n",
        "\n",
        "\n",
        "# TODO: Silakan buat kode Anda di bawah ini.\n",
        "data_diri = {'firstName': 'Bella', 'lastName': 'Swan', 'age': 25, 'isMarried': False}\n",
        "\n",
        "print(type(data_diri['firstName']))\n",
        "print(type(data_diri['lastName']))\n",
        "print(type(data_diri['age']))\n",
        "print(type(data_diri['isMarried']))\n",
        "print(type(data_diri))"
      ],
      "metadata": {
        "colab": {
          "base_uri": "https://localhost:8080/"
        },
        "id": "87HevOOxBLV2",
        "outputId": "ebd75b19-c7ce-4fd2-fff9-fe80c57ff4c1"
      },
      "execution_count": 12,
      "outputs": [
        {
          "output_type": "stream",
          "name": "stdout",
          "text": [
            "<class 'str'>\n",
            "<class 'str'>\n",
            "<class 'int'>\n",
            "<class 'bool'>\n",
            "<class 'dict'>\n"
          ]
        }
      ]
    },
    {
      "cell_type": "markdown",
      "source": [
        "### **Kuis Coding: Operasi List**"
      ],
      "metadata": {
        "id": "bdv5w-MlNQNT"
      }
    },
    {
      "cell_type": "code",
      "source": [
        "\"\"\"\n",
        "TODO:\n",
        "Diberikan sebuah variabel berisi nilai list dengan nama \"var_list\".\n",
        "Berdasarkan list tersebut, cari hal-hal berikut ini:\n",
        "- Panjang list tersebut dan simpan dengan nama variabel \"panjang\".\n",
        "- Nilai maksimal list tersebut dan simpan dengan nama variabel \"maksimal\".\n",
        "- Nilai minimal list tersebut dan simpan dengan nama variabel \"minimal\".\n",
        "- Berapa banyak angka 605132 dalam list tersebut dan simpan dalam variabel bernama \"banyak\"\n",
        "\n",
        "Tips:\n",
        "- Anda bisa menggunakan berbagai kode yang ada di materi operasi,\n",
        "  tidak diperbolehkan memasukan nilai secara langsung.\n",
        "\"\"\"\n",
        "\n",
        "# Jangan ubah kode ini\n",
        "var_list = [792564, 465231, 203748, 981037, 857219, 314092, 608345, 123907, 736890, 985026,\n",
        "179430, 450218, 680934, 543187, 978260, 283045, 617902, 405826, 820913, 731095,\n",
        "592403, 109237, 874956, 605132, 214978, 674519, 391047, 825160, 509317, 768490,\n",
        "950283, 307491, 487610, 532198, 605132, 160984, 609873, 245016, 879043, 734126,\n",
        "351809, 670594, 920873, 605132, 596410, 135890, 804512, 683420, 290753, 931560,\n",
        "175430, 950672, 378490, 284105, 746098, 503624, 605132, 167432, 974810, 519463,\n",
        "407835, 740326, 281709, 630921, 953284, 605132, 429731, 183607, 369012, 541380,\n",
        "605132, 217605, 496803, 827309, 153607, 605132, 720459, 381904, 594031, 810235,\n",
        "673925, 492157, 835096, 260481, 956024, 540329, 806295, 320158, 751903, 980465,\n",
        "235780, 857943, 605132, 125094, 620493, 913250\n",
        "]\n",
        "\n",
        "# TODO: Buat kode Anda di bawah ini\n",
        "panjang = len(var_list)\n",
        "print(panjang)\n",
        "\n",
        "maksimal = max(var_list)\n",
        "print(maksimal)\n",
        "\n",
        "minimal = min(var_list)\n",
        "print(minimal)\n",
        "\n",
        "banyak = var_list.count(605132)\n",
        "print(banyak)"
      ],
      "metadata": {
        "colab": {
          "base_uri": "https://localhost:8080/"
        },
        "id": "KQFIZb96NRct",
        "outputId": "766a7585-2911-4e24-8375-6efb66ec9682"
      },
      "execution_count": 13,
      "outputs": [
        {
          "output_type": "stream",
          "name": "stdout",
          "text": [
            "96\n",
            "985026\n",
            "109237\n",
            "8\n"
          ]
        }
      ]
    },
    {
      "cell_type": "markdown",
      "source": [
        "### **Kuis Coding: Ekspresi**"
      ],
      "metadata": {
        "id": "NfhK-GaDDIKG"
      }
    },
    {
      "cell_type": "code",
      "source": [
        "\"\"\"\n",
        "TODO:\n",
        "Anda diharuskan membuat program diskon untuk sebuah toko belanja dengan ketentuan berikut.\n",
        "- Jika pelanggan berbelanja lebih dari 500.000 ribu, mereka akan mendapat potongan harga 10%.\n",
        "- Seorang pelanggan bernama Dico telah berbelanja senilai 750.000 ribu.\n",
        "- Buat operasi aritmetika untuk menghitung total harga belanja Dico setelah mendapatkan diskon,\n",
        "  dan simpan dalam variabel bernama \"total_harga\".\n",
        "\n",
        "Tips:\n",
        "- Ingat yang dicari adalah total harga belanja setelah diskon, bukan besaran potongan harga.\n",
        "\"\"\"\n",
        "# Jangan ubah kode ini\n",
        "dico = 750000\n",
        "\n",
        "# TODO: Silakan buat kode Anda di bawah ini.\n",
        "belanja_pelanggan = dico            # dico adalah seorang pelanggan yang telah berbelanja\n",
        "potongan_harga = 10/100             # potongan harga 10%\n",
        "min_belanja = 500000                # minimal belanja 500.000 ribu\n",
        "\n",
        "if(belanja_pelanggan > min_belanja):\n",
        "  total_harga = belanja_pelanggan - (belanja_pelanggan * potongan_harga)\n",
        "else:\n",
        "  total_harga = belanja_pelanggan\n",
        "\n",
        "print('Total harga: ', format(int(total_harga)))"
      ],
      "metadata": {
        "colab": {
          "base_uri": "https://localhost:8080/"
        },
        "id": "CPofthDoDQn2",
        "outputId": "a8a28aa7-d527-4036-db03-a97bba25d33d"
      },
      "execution_count": 14,
      "outputs": [
        {
          "output_type": "stream",
          "name": "stdout",
          "text": [
            "Total harga:  675000\n"
          ]
        }
      ]
    },
    {
      "cell_type": "markdown",
      "source": [
        "### **Kuis Coding: Perulangan dan Percabangan**"
      ],
      "metadata": {
        "id": "WI2L4w4tJgU7"
      }
    },
    {
      "cell_type": "code",
      "source": [
        "\"\"\"\n",
        "TODO:\n",
        "Buatlah sebuah variabel bertipe list bernama \"evenNumber\" dengan ketentuan:\n",
        "- variabel tersebut menampung bilangan genap dari 0 hingga 500 (ingat 0 dan 500 termasuk).\n",
        "\n",
        "Tips:\n",
        "Anda bisa menggunakan loop dan if atau list comprehension untuk memudahkan.\n",
        "\"\"\"\n",
        "\n",
        "# TODO: Silakan buat kode Anda di bawah ini.\n",
        "\n",
        "#list comprehension bilangan genap\n",
        "evenNumber = [n for n in range(501) if n%2 == 0]\n",
        "print(f'Bilangan Genap: {evenNumber}')\n",
        "\n",
        "#list comprehension bilangan ganjil\n",
        "evenNumber = [n for n in range(501) if n%2 == 1]\n",
        "print(f'Bilangan Ganjil: {evenNumber}')"
      ],
      "metadata": {
        "colab": {
          "base_uri": "https://localhost:8080/"
        },
        "id": "5zLVi92LJhhE",
        "outputId": "b3d2eb95-cfe6-4faf-9fa2-e691c2b60fad"
      },
      "execution_count": 15,
      "outputs": [
        {
          "output_type": "stream",
          "name": "stdout",
          "text": [
            "Bilangan Genap: [0, 2, 4, 6, 8, 10, 12, 14, 16, 18, 20, 22, 24, 26, 28, 30, 32, 34, 36, 38, 40, 42, 44, 46, 48, 50, 52, 54, 56, 58, 60, 62, 64, 66, 68, 70, 72, 74, 76, 78, 80, 82, 84, 86, 88, 90, 92, 94, 96, 98, 100, 102, 104, 106, 108, 110, 112, 114, 116, 118, 120, 122, 124, 126, 128, 130, 132, 134, 136, 138, 140, 142, 144, 146, 148, 150, 152, 154, 156, 158, 160, 162, 164, 166, 168, 170, 172, 174, 176, 178, 180, 182, 184, 186, 188, 190, 192, 194, 196, 198, 200, 202, 204, 206, 208, 210, 212, 214, 216, 218, 220, 222, 224, 226, 228, 230, 232, 234, 236, 238, 240, 242, 244, 246, 248, 250, 252, 254, 256, 258, 260, 262, 264, 266, 268, 270, 272, 274, 276, 278, 280, 282, 284, 286, 288, 290, 292, 294, 296, 298, 300, 302, 304, 306, 308, 310, 312, 314, 316, 318, 320, 322, 324, 326, 328, 330, 332, 334, 336, 338, 340, 342, 344, 346, 348, 350, 352, 354, 356, 358, 360, 362, 364, 366, 368, 370, 372, 374, 376, 378, 380, 382, 384, 386, 388, 390, 392, 394, 396, 398, 400, 402, 404, 406, 408, 410, 412, 414, 416, 418, 420, 422, 424, 426, 428, 430, 432, 434, 436, 438, 440, 442, 444, 446, 448, 450, 452, 454, 456, 458, 460, 462, 464, 466, 468, 470, 472, 474, 476, 478, 480, 482, 484, 486, 488, 490, 492, 494, 496, 498, 500]\n",
            "Bilangan Ganjil: [1, 3, 5, 7, 9, 11, 13, 15, 17, 19, 21, 23, 25, 27, 29, 31, 33, 35, 37, 39, 41, 43, 45, 47, 49, 51, 53, 55, 57, 59, 61, 63, 65, 67, 69, 71, 73, 75, 77, 79, 81, 83, 85, 87, 89, 91, 93, 95, 97, 99, 101, 103, 105, 107, 109, 111, 113, 115, 117, 119, 121, 123, 125, 127, 129, 131, 133, 135, 137, 139, 141, 143, 145, 147, 149, 151, 153, 155, 157, 159, 161, 163, 165, 167, 169, 171, 173, 175, 177, 179, 181, 183, 185, 187, 189, 191, 193, 195, 197, 199, 201, 203, 205, 207, 209, 211, 213, 215, 217, 219, 221, 223, 225, 227, 229, 231, 233, 235, 237, 239, 241, 243, 245, 247, 249, 251, 253, 255, 257, 259, 261, 263, 265, 267, 269, 271, 273, 275, 277, 279, 281, 283, 285, 287, 289, 291, 293, 295, 297, 299, 301, 303, 305, 307, 309, 311, 313, 315, 317, 319, 321, 323, 325, 327, 329, 331, 333, 335, 337, 339, 341, 343, 345, 347, 349, 351, 353, 355, 357, 359, 361, 363, 365, 367, 369, 371, 373, 375, 377, 379, 381, 383, 385, 387, 389, 391, 393, 395, 397, 399, 401, 403, 405, 407, 409, 411, 413, 415, 417, 419, 421, 423, 425, 427, 429, 431, 433, 435, 437, 439, 441, 443, 445, 447, 449, 451, 453, 455, 457, 459, 461, 463, 465, 467, 469, 471, 473, 475, 477, 479, 481, 483, 485, 487, 489, 491, 493, 495, 497, 499]\n"
          ]
        }
      ]
    },
    {
      "cell_type": "markdown",
      "source": [
        "### **Kuis Coding: Array atau List**"
      ],
      "metadata": {
        "id": "gD1u8ZG4N9Cv"
      }
    },
    {
      "cell_type": "code",
      "source": [
        "\"\"\"\n",
        "TODO:\n",
        "Sebuah variabel array diberikan dengan ketentuan berikut.\n",
        "- Variabel array bernama \"var_array\" dengan nilai dari 0 hingga 100.\n",
        "- Hitung nilai rata-rata dari elemen array tersebut.\n",
        "- Simpan hasil perhitungan dalam variabel bernama \"result\".\n",
        "\n",
        "Tips:\n",
        "- Rumus menghitung rata-rata adalah jumlah seluruh elemen dibagi banyaknya elemen.\n",
        "- Gunakan percabangan dan perulangan untuk mempermudah,\n",
        "  Anda tidak diperbolehkan memberikan nilai secara langsung.\n",
        "\"\"\"\n",
        "# Jangan ubah kode ini\n",
        "var_array = [i for i in range(101)]\n",
        "\n",
        "# TODO: Silakan buat kode Anda di bawah ini.\n",
        "result = sum(var_array) / len(var_array)\n",
        "print(f'Nilai rata-rata: {result}')"
      ],
      "metadata": {
        "colab": {
          "base_uri": "https://localhost:8080/"
        },
        "id": "z6Dl5ozYN9o5",
        "outputId": "4b063ee2-ed33-4617-fab7-dc3607c3d486"
      },
      "execution_count": 16,
      "outputs": [
        {
          "output_type": "stream",
          "name": "stdout",
          "text": [
            "Nilai rata-rata: 50.0\n"
          ]
        }
      ]
    },
    {
      "cell_type": "markdown",
      "source": [
        "### **Kuis Coding: Fungsi**"
      ],
      "metadata": {
        "id": "pzRqHJ1nOw1f"
      }
    },
    {
      "cell_type": "code",
      "source": [
        "\"\"\"\n",
        "TODO:\n",
        "Buatlah sebuah fungsi bernama \"minimal\" dengan ketentuan berikut.\n",
        "- Menerima dua buah argumen berupa number, yaitu a dan b.\n",
        "- Mengembalikan nilai terkecil antara a atau b.\n",
        "- Bila nilai keduanya sama, kembalikan dengan nilai a.\n",
        "\"\"\"\n",
        "\n",
        "# TODO: Silakan buat kode Anda di bawah ini.\n",
        "minimal = lambda a, b: min(a,b)\n",
        "print(minimal(10,50))"
      ],
      "metadata": {
        "colab": {
          "base_uri": "https://localhost:8080/"
        },
        "id": "RB13dbsrOxMb",
        "outputId": "57eb3256-63f9-45e9-c7a8-2c97e2ca0e31"
      },
      "execution_count": 17,
      "outputs": [
        {
          "output_type": "stream",
          "name": "stdout",
          "text": [
            "10\n"
          ]
        }
      ]
    },
    {
      "cell_type": "markdown",
      "source": [
        "### **Kuis Coding: Object-oriented Programming**"
      ],
      "metadata": {
        "id": "gt6XU6BKQAbm"
      }
    },
    {
      "cell_type": "code",
      "source": [
        "\"\"\"\n",
        "TODO:\n",
        "1. Buatlah class bernama Animal dengan ketentuan:\n",
        "    - Memiliki properti:\n",
        "      - name: string\n",
        "      - age: int\n",
        "      - species: string\n",
        "    - Memiliki constructor untuk menginisialisasi properti:\n",
        "      - name\n",
        "      - age\n",
        "      - species\n",
        "2. Buatlah class bernama Cat dengan ketentuan:\n",
        "    - Merupakan turunan dari class Animal\n",
        "    - Memiliki method:\n",
        "      - bernama \"deskripsi\" yang mengembalikan nilai string berikut ini.\n",
        "        \"{self.name} adalah kucing berjenis {self.species} yang sudah berumur {self.age} tahun\"\n",
        "      - bernama \"suara\" yang akan mengembalikan nilai string \"meow!\"\n",
        " 3. Buatlah instance dari kelas Cat bernama \"myCat\" dengan ketentuan:\n",
        "    - Atribut name bernilai: \"Neko\"\n",
        "    - Atribut age bernilai: 3\n",
        "    - Atribut species bernilai: \"Persian\".\n",
        "\"\"\"\n",
        "\n",
        "#TODO: Silakan buat kode Anda di bawah ini.\n",
        "class Animal:\n",
        "  def __init__(self, name, age, species):\n",
        "    self.name = name\n",
        "    self.age = age\n",
        "    self.species = species\n",
        "\n",
        "class Cat(Animal):\n",
        "  def deskripsi(self):\n",
        "    return (f'{self.name} adalah kucing berjenis {self.species} yang sudah berumur {self.age} tahun')\n",
        "\n",
        "  def suara(self):\n",
        "    return ('meow!')\n",
        "\n",
        "# Kelas Cat\n",
        "myCat = Cat('Neko', 3, 'Persian')\n",
        "print(myCat.deskripsi())\n",
        "print(myCat.suara())"
      ],
      "metadata": {
        "colab": {
          "base_uri": "https://localhost:8080/"
        },
        "id": "hUqcHUxdQBoC",
        "outputId": "6817340d-ab36-4653-de89-87746008705b"
      },
      "execution_count": 18,
      "outputs": [
        {
          "output_type": "stream",
          "name": "stdout",
          "text": [
            "Neko adalah kucing berjenis Persian yang sudah berumur 3 tahun\n",
            "meow!\n"
          ]
        }
      ]
    }
  ]
}